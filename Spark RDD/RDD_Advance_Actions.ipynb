{
 "cells": [
  {
   "cell_type": "code",
   "execution_count": 1,
   "metadata": {},
   "outputs": [],
   "source": [
    "# Importing findspark and initializing \n",
    "import findspark\n",
    "findspark.init('/home/ec2-user/spark')"
   ]
  },
  {
   "cell_type": "code",
   "execution_count": 2,
   "metadata": {},
   "outputs": [],
   "source": [
    "# Importing pyspark\n",
    "import pyspark\n",
    "from pyspark import SparkContext"
   ]
  },
  {
   "cell_type": "code",
   "execution_count": 5,
   "metadata": {},
   "outputs": [],
   "source": [
    "# Calling SparkContext \n",
    "sc = SparkContext()"
   ]
  },
  {
   "cell_type": "code",
   "execution_count": 13,
   "metadata": {},
   "outputs": [
    {
     "data": {
      "text/plain": [
       "15"
      ]
     },
     "execution_count": 13,
     "metadata": {},
     "output_type": "execute_result"
    }
   ],
   "source": [
    "# --- reduce() action ---\n",
    "# Used for aggregating the elements of a regular RDD\n",
    "x = [1,2,3,4,5]\n",
    "rdd = sc.parallelize(x,3)  # Creates RDD with 3 partitions\n",
    "# This function will sum all the elements of rdd\n",
    "rdd.reduce(lambda x , y: x+y)"
   ]
  },
  {
   "cell_type": "code",
   "execution_count": 15,
   "metadata": {},
   "outputs": [],
   "source": [
    "# --- saveAsTextFile() action ---\n",
    "# Saves RDD into a text file inside a directory with each partition as a seperate file.\n",
    "rdd.saveAsTextFile(\"tmpfile\")  # tmpfile - name of the directory that is created...\n",
    "\n",
    "# this directory will contain the RDD stored as text files.\n",
    "# If RDD is created with multiple partitions, directory will have that number of files."
   ]
  },
  {
   "cell_type": "code",
   "execution_count": 19,
   "metadata": {},
   "outputs": [],
   "source": [
    "# To save multiple partitioned RDD into 1 text file we use coalesce method.\n",
    "rdd.coalesce(1).saveAsTextFile(\"myrdd1\")  # Will save all rdd partitions in 1 file.\n",
    "rdd.coalesce(2).saveAsTextFile(\"myrdd2\")  # Will save all rdd partitions in 2 file."
   ]
  },
  {
   "cell_type": "code",
   "execution_count": 41,
   "metadata": {},
   "outputs": [],
   "source": [
    "# Pair RDDs Advance Actions\n",
    "    # countByKey()  -  counts the number of elements for each key.(key count)\n",
    "    # collectAsMap() - returns the key value pairs in the RDD as a dictionary."
   ]
  },
  {
   "cell_type": "code",
   "execution_count": 42,
   "metadata": {},
   "outputs": [
    {
     "data": {
      "text/plain": [
       "defaultdict(int, {'a': 3, 'b': 1, 'c': 1})"
      ]
     },
     "execution_count": 42,
     "metadata": {},
     "output_type": "execute_result"
    }
   ],
   "source": [
    "# Applying countByKey() action.\n",
    "rdd = sc.parallelize([(\"a\",1), (\"b\",2), (\"a\",3),(\"c\",6),(\"a\",5)])\n",
    "new_rdd = rdd.countByKey()  # returns number of keys count.\n",
    "new_rdd"
   ]
  },
  {
   "cell_type": "code",
   "execution_count": 43,
   "metadata": {},
   "outputs": [
    {
     "name": "stdout",
     "output_type": "stream",
     "text": [
      "a 3\n",
      "b 1\n",
      "c 1\n"
     ]
    }
   ],
   "source": [
    "# Printing in better way\n",
    "for key, value in new_rdd.items():\n",
    "    print(key,value)"
   ]
  },
  {
   "cell_type": "code",
   "execution_count": 50,
   "metadata": {},
   "outputs": [
    {
     "name": "stdout",
     "output_type": "stream",
     "text": [
      "{'a': 5, 'b': 2, 'c': 6}\n"
     ]
    },
    {
     "data": {
      "text/plain": [
       "dict"
      ]
     },
     "execution_count": 50,
     "metadata": {},
     "output_type": "execute_result"
    }
   ],
   "source": [
    "# Applying collectAsMap() action.\n",
    "# This will return the pair RDD in dictionary format. Default is list.\n",
    "new_rdd = rdd.collectAsMap()  \n",
    "print(new_rdd)\n",
    "type(new_rdd)"
   ]
  },
  {
   "cell_type": "code",
   "execution_count": 49,
   "metadata": {},
   "outputs": [
    {
     "name": "stdout",
     "output_type": "stream",
     "text": [
      "[('a', 1), ('b', 2), ('a', 3), ('c', 6), ('a', 5)]\n"
     ]
    },
    {
     "data": {
      "text/plain": [
       "list"
      ]
     },
     "execution_count": 49,
     "metadata": {},
     "output_type": "execute_result"
    }
   ],
   "source": [
    "# Default collec() action.\n",
    "# Return value as list\n",
    "new_rdd = rdd.collect()\n",
    "print(new_rdd)\n",
    "type(new_rdd)"
   ]
  }
 ],
 "metadata": {
  "kernelspec": {
   "display_name": "Python 3",
   "language": "python",
   "name": "python3"
  },
  "language_info": {
   "codemirror_mode": {
    "name": "ipython",
    "version": 3
   },
   "file_extension": ".py",
   "mimetype": "text/x-python",
   "name": "python",
   "nbconvert_exporter": "python",
   "pygments_lexer": "ipython3",
   "version": "3.6.6"
  }
 },
 "nbformat": 4,
 "nbformat_minor": 2
}
