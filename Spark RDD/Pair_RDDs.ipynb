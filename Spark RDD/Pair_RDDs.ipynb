{
 "cells": [
  {
   "cell_type": "code",
   "execution_count": 3,
   "metadata": {},
   "outputs": [],
   "source": [
    "# Importing findspark and initializing \n",
    "import findspark\n",
    "findspark.init('/home/ec2-user/spark')"
   ]
  },
  {
   "cell_type": "code",
   "execution_count": 6,
   "metadata": {},
   "outputs": [],
   "source": [
    "# Importing pyspark\n",
    "import pyspark\n",
    "from pyspark import SparkContext"
   ]
  },
  {
   "cell_type": "code",
   "execution_count": 5,
   "metadata": {},
   "outputs": [],
   "source": [
    "# Calling SparkContext \n",
    "sc = SparkContext()"
   ]
  },
  {
   "cell_type": "code",
   "execution_count": 7,
   "metadata": {},
   "outputs": [],
   "source": [
    "# Pair RDD --- RDD in key:value pair.\n",
    "# Creating pair RDD from key-value tuple\n",
    "\n",
    "my_tuple = [('Harsh',20), ('Ankit',21), ('Harshit',22)]\n",
    "pair_rdd_tuple = sc.parallelize(my_tuple)"
   ]
  },
  {
   "cell_type": "code",
   "execution_count": 10,
   "metadata": {},
   "outputs": [
    {
     "data": {
      "text/plain": [
       "[('Harsh', 20), ('Ankit', 21), ('Harshit', 22)]"
      ]
     },
     "execution_count": 10,
     "metadata": {},
     "output_type": "execute_result"
    }
   ],
   "source": [
    "# Printing\n",
    "pair_rdd_tuple.collect()"
   ]
  },
  {
   "cell_type": "code",
   "execution_count": 39,
   "metadata": {},
   "outputs": [],
   "source": [
    "# Creating pair RDD from Regular RDD\n",
    "my_list = ['Harsh 20', 'Ankit 21', 'Harshit 22']\n",
    "regular_rdd = sc.parallelize(my_list)\n",
    "pair_rdd_list = regular_rdd.map(lambda s : (s.split(' ')[0],  s.split(' ')[1]) )  "
   ]
  },
  {
   "cell_type": "code",
   "execution_count": 40,
   "metadata": {},
   "outputs": [
    {
     "data": {
      "text/plain": [
       "[('Harsh', '20'), ('Ankit', '21'), ('Harshit', '22')]"
      ]
     },
     "execution_count": 40,
     "metadata": {},
     "output_type": "execute_result"
    }
   ],
   "source": [
    "# Printing\n",
    "pair_rdd_list.collect()"
   ]
  }
 ],
 "metadata": {
  "kernelspec": {
   "display_name": "Python 3",
   "language": "python",
   "name": "python3"
  },
  "language_info": {
   "codemirror_mode": {
    "name": "ipython",
    "version": 3
   },
   "file_extension": ".py",
   "mimetype": "text/x-python",
   "name": "python",
   "nbconvert_exporter": "python",
   "pygments_lexer": "ipython3",
   "version": "3.6.6"
  }
 },
 "nbformat": 4,
 "nbformat_minor": 2
}
