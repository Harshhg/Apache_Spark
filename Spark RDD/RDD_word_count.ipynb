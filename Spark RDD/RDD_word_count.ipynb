{
 "cells": [
  {
   "cell_type": "code",
   "execution_count": 1,
   "metadata": {},
   "outputs": [],
   "source": [
    "import findspark\n",
    "findspark.init('/home/ec2-user/spark')"
   ]
  },
  {
   "cell_type": "code",
   "execution_count": 2,
   "metadata": {},
   "outputs": [],
   "source": [
    "import pyspark\n",
    "from pyspark import SparkContext"
   ]
  },
  {
   "cell_type": "code",
   "execution_count": 3,
   "metadata": {},
   "outputs": [],
   "source": [
    "sc = SparkContext()"
   ]
  },
  {
   "cell_type": "code",
   "execution_count": 33,
   "metadata": {},
   "outputs": [],
   "source": [
    "# Creating a RDD\n",
    "data = [\"Hello world how are you? are you ok? thanks world\"]\n",
    "rdd = sc.parallelize(data)"
   ]
  },
  {
   "cell_type": "code",
   "execution_count": 34,
   "metadata": {},
   "outputs": [
    {
     "name": "stdout",
     "output_type": "stream",
     "text": [
      "Flat map:  ['Hello', 'world', 'how', 'are', 'you?', 'are', 'you', 'ok?', 'thanks', 'world']\n",
      "Flat map:  ['Hello', 'world', 'how']\n",
      "\n",
      "Map:  [['Hello', 'world', 'how', 'are', 'you?', 'are', 'you', 'ok?', 'thanks', 'world']]\n",
      "Map:  [['Hello', 'world', 'how', 'are', 'you?', 'are', 'you', 'ok?', 'thanks', 'world']]\n"
     ]
    }
   ],
   "source": [
    "# Now splitting the file using flatMap() function so that we get each word as seperate element of RDD\n",
    "flatmapRDD = rdd.flatMap(lambda x : x.split(\" \"))\n",
    "\n",
    "print(\"Flat map: \", flatmapRDD.collect())\n",
    "print(\"Flat map: \", flatmapRDD.take(3))\n",
    "\n",
    "# If we use map function to split this, we will get the words splitted but as a single element of RDD\n",
    "maprdd = rdd.map(lambda x : x.split(\" \"))\n",
    "print(\"\\nMap: \",maprdd.collect())\n",
    "print(\"Map: \", maprdd.take(3))"
   ]
  },
  {
   "cell_type": "code",
   "execution_count": 35,
   "metadata": {},
   "outputs": [],
   "source": [
    "# Now creating key value pair RDD, by mapping each word with key and value.\n",
    "secondrdd = flatmapRDD.map(lambda word: (word,1))"
   ]
  },
  {
   "cell_type": "code",
   "execution_count": 36,
   "metadata": {},
   "outputs": [
    {
     "data": {
      "text/plain": [
       "[('Hello', 1), ('world', 1), ('how', 1)]"
      ]
     },
     "execution_count": 36,
     "metadata": {},
     "output_type": "execute_result"
    }
   ],
   "source": [
    "secondrdd.take(3)"
   ]
  },
  {
   "cell_type": "code",
   "execution_count": 37,
   "metadata": {},
   "outputs": [
    {
     "data": {
      "text/plain": [
       "[('Hello', 1),\n",
       " ('world', 2),\n",
       " ('how', 1),\n",
       " ('are', 2),\n",
       " ('you?', 1),\n",
       " ('you', 1),\n",
       " ('ok?', 1),\n",
       " ('thanks', 1)]"
      ]
     },
     "execution_count": 37,
     "metadata": {},
     "output_type": "execute_result"
    }
   ],
   "source": [
    "# Now we will use reduceKey() function to add up the values with similiar keys(words)\n",
    "thirdrdd = secondrdd.reduceByKey(lambda word,count : word+count)\n",
    "thirdrdd.collect()"
   ]
  },
  {
   "cell_type": "code",
   "execution_count": 38,
   "metadata": {},
   "outputs": [],
   "source": [
    "# Plotting the chart of the word count\n",
    "import matplotlib.pyplot as plt"
   ]
  },
  {
   "cell_type": "code",
   "execution_count": 44,
   "metadata": {},
   "outputs": [],
   "source": [
    "# Seperating words and counts into two lists..\n",
    "words=[]\n",
    "counts=[]\n",
    "for x in thirdrdd.collect():\n",
    "    words.append(x[0])\n",
    "    counts.append(x[1])"
   ]
  },
  {
   "cell_type": "code",
   "execution_count": 47,
   "metadata": {},
   "outputs": [
    {
     "data": {
      "text/plain": [
       "<BarContainer object of 8 artists>"
      ]
     },
     "execution_count": 47,
     "metadata": {},
     "output_type": "execute_result"
    },
    {
     "data": {
      "image/png": "[encoded data removed]",
      "text/plain": [
       "<Figure size 432x288 with 1 Axes>"
      ]
     },
     "metadata": {
      "needs_background": "light"
     },
     "output_type": "display_data"
    }
   ],
   "source": [
    "# Plotting bar chart\n",
    "plt.bar(words,counts)"
   ]
  }
 ],
 "metadata": {
  "kernelspec": {
   "display_name": "Python 3",
   "language": "python",
   "name": "python3"
  },
  "language_info": {
   "codemirror_mode": {
    "name": "ipython",
    "version": 3
   },
   "file_extension": ".py",
   "mimetype": "text/x-python",
   "name": "python",
   "nbconvert_exporter": "python",
   "pygments_lexer": "ipython3",
   "version": "3.6.6"
  }
 },
 "nbformat": 4,
 "nbformat_minor": 2
}
