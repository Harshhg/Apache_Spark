{
 "cells": [
  {
   "cell_type": "code",
   "execution_count": 1,
   "metadata": {},
   "outputs": [],
   "source": [
    "import findspark\n",
    "findspark.init('/home/ec2-user/spark')"
   ]
  },
  {
   "cell_type": "code",
   "execution_count": 2,
   "metadata": {},
   "outputs": [],
   "source": [
    "import pyspark\n",
    "from pyspark import SparkContext"
   ]
  },
  {
   "cell_type": "code",
   "execution_count": 3,
   "metadata": {},
   "outputs": [],
   "source": [
    "sc = SparkContext()"
   ]
  },
  {
   "cell_type": "code",
   "execution_count": 4,
   "metadata": {},
   "outputs": [],
   "source": [
    "# Creating SparkSession bcoz this is the entry point to create DataFrame..\n",
    "from pyspark.sql import SparkSession\n",
    "spark = SparkSession.builder.appName(\"My App\").config(\"spark.some.config.option\", \"some-value\").getOrCreate()"
   ]
  },
  {
   "cell_type": "code",
   "execution_count": 10,
   "metadata": {
    "scrolled": true
   },
   "outputs": [],
   "source": [
    "# Creating a DataFrame from csv,txt,json file.\n",
    "\n",
    "df = spark.read.csv(\"/home/ec2-user/wc.csv\" , header=True, inferSchema=True)\n",
    "#dftxt = spark.read.text(\"/home/ec2-user/wc.txt\")  # For TEXT file\n",
    "#dfjson = spark.read.json(\"/home/ec2-user/wc.csv\") # For JSON file\n",
    "\n",
    "# header=True -- means it will take the first line of csv file as header or column name\n",
    "# inferSchema=True -- fetches the schema of the table. "
   ]
  },
  {
   "cell_type": "code",
   "execution_count": 11,
   "metadata": {},
   "outputs": [
    {
     "name": "stdout",
     "output_type": "stream",
     "text": [
      "+-----+---+------+\n",
      "| name|age|  city|\n",
      "+-----+---+------+\n",
      "|harsh| 20|jaipur|\n",
      "|ankit| 21| ajmer|\n",
      "|dhruv| 24|  kota|\n",
      "+-----+---+------+\n",
      "\n",
      "+---------------+\n",
      "|          value|\n",
      "+---------------+\n",
      "|  name,age,city|\n",
      "|harsh,20,jaipur|\n",
      "| ankit,21,ajmer|\n",
      "|  dhruv,24,kota|\n",
      "+---------------+\n",
      "\n"
     ]
    }
   ],
   "source": [
    "# Displaying the dataframe values\n",
    "df.show()\n",
    "dftxt.show()"
   ]
  },
  {
   "cell_type": "code",
   "execution_count": null,
   "metadata": {},
   "outputs": [],
   "source": [
    "# Next we're going to perform some operations on DATAFRAMES.. stay tuned :)"
   ]
  }
 ],
 "metadata": {
  "kernelspec": {
   "display_name": "Python 3",
   "language": "python",
   "name": "python3"
  },
  "language_info": {
   "codemirror_mode": {
    "name": "ipython",
    "version": 3
   },
   "file_extension": ".py",
   "mimetype": "text/x-python",
   "name": "python",
   "nbconvert_exporter": "python",
   "pygments_lexer": "ipython3",
   "version": "3.6.6"
  }
 },
 "nbformat": 4,
 "nbformat_minor": 2
}
