{
 "cells": [
  {
   "cell_type": "code",
   "execution_count": 1,
   "metadata": {},
   "outputs": [],
   "source": [
    "import findspark\n",
    "findspark.init('/home/ec2-user/spark')"
   ]
  },
  {
   "cell_type": "code",
   "execution_count": 2,
   "metadata": {},
   "outputs": [],
   "source": [
    "import pyspark\n",
    "from pyspark import SparkContext"
   ]
  },
  {
   "cell_type": "code",
   "execution_count": 3,
   "metadata": {},
   "outputs": [],
   "source": [
    "sc = SparkContext()"
   ]
  },
  {
   "cell_type": "code",
   "execution_count": 4,
   "metadata": {},
   "outputs": [],
   "source": [
    "# Creating SparkSession bcoz this is the entry point to create DataFrame..\n",
    "from pyspark.sql import SparkSession\n",
    "spark = SparkSession.builder.appName(\"My App\").config(\"spark.some.config.option\", \"some-value\").getOrCreate()"
   ]
  },
  {
   "cell_type": "code",
   "execution_count": 5,
   "metadata": {
    "scrolled": true
   },
   "outputs": [
    {
     "name": "stdout",
     "output_type": "stream",
     "text": [
      "+------+---+------+\n",
      "|  name|age|  city|\n",
      "+------+---+------+\n",
      "| harsh| 20|jaipur|\n",
      "| ankit| 21| ajmer|\n",
      "| dhruv| 24|  kota|\n",
      "|akshay| 21| ajmer|\n",
      "+------+---+------+\n",
      "\n"
     ]
    }
   ],
   "source": [
    "# Creating a DataFrame from csv file.\n",
    "df = spark.read.csv(\"/home/ec2-user/wc.csv\" , header=True, inferSchema=True)\n",
    "df.show()\n",
    "# header=True -- means it will take the first line of csv file as header or column name\n",
    "# inferSchema=True -- fetches the schema of the table. "
   ]
  },
  {
   "cell_type": "code",
   "execution_count": 6,
   "metadata": {},
   "outputs": [],
   "source": [
    "# Register the dataframe as SQL temporary view (creating table)\n",
    "df.createOrReplaceTempView(\"student\")\n",
    "\n",
    "# This view is temporary(session-scoped) will disappear if session is terminated."
   ]
  },
  {
   "cell_type": "code",
   "execution_count": 7,
   "metadata": {},
   "outputs": [
    {
     "name": "stdout",
     "output_type": "stream",
     "text": [
      "+------+---+------+\n",
      "|  name|age|  city|\n",
      "+------+---+------+\n",
      "| harsh| 20|jaipur|\n",
      "| ankit| 21| ajmer|\n",
      "| dhruv| 24|  kota|\n",
      "|akshay| 21| ajmer|\n",
      "+------+---+------+\n",
      "\n"
     ]
    }
   ],
   "source": [
    "# Now we can programmaticaly run SQL queries..\n",
    "sqldf = spark.sql(\"select * from student\")\n",
    "sqldf.show()"
   ]
  },
  {
   "cell_type": "code",
   "execution_count": 8,
   "metadata": {},
   "outputs": [],
   "source": [
    "# To create temporary view that is shared across all sessions and keep alive till spark application terminates - \n",
    "# We will create GlobalTemporary view.\n",
    "df.createGlobalTempView(\"st\")"
   ]
  },
  {
   "cell_type": "code",
   "execution_count": 9,
   "metadata": {},
   "outputs": [
    {
     "name": "stdout",
     "output_type": "stream",
     "text": [
      "+------+---+------+\n",
      "|  name|age|  city|\n",
      "+------+---+------+\n",
      "| harsh| 20|jaipur|\n",
      "| ankit| 21| ajmer|\n",
      "| dhruv| 24|  kota|\n",
      "|akshay| 21| ajmer|\n",
      "+------+---+------+\n",
      "\n"
     ]
    }
   ],
   "source": [
    "# To use the global temporary view, we have to use it with name \"global_temp.nameofview\"\n",
    "sqldf = spark.sql(\"select * from global_temp.st\")\n",
    "sqldf.show()"
   ]
  },
  {
   "cell_type": "code",
   "execution_count": 10,
   "metadata": {},
   "outputs": [
    {
     "name": "stdout",
     "output_type": "stream",
     "text": [
      "+------+---+------+\n",
      "|  name|age|  city|\n",
      "+------+---+------+\n",
      "| harsh| 20|jaipur|\n",
      "| ankit| 21| ajmer|\n",
      "| dhruv| 24|  kota|\n",
      "|akshay| 21| ajmer|\n",
      "+------+---+------+\n",
      "\n"
     ]
    }
   ],
   "source": [
    "# To check the global temporary view in cross sessions, we are creating new session\n",
    "spark.newSession().sql(\"select * from global_temp.st\").show()"
   ]
  },
  {
   "cell_type": "code",
   "execution_count": 13,
   "metadata": {},
   "outputs": [],
   "source": [
    "# Now lets perform some SQL operations using spark\n",
    "query1 = \" Select * from student where age > 20\"\n",
    "query2 = \"Select * from student order by age\""
   ]
  },
  {
   "cell_type": "code",
   "execution_count": 14,
   "metadata": {},
   "outputs": [
    {
     "name": "stdout",
     "output_type": "stream",
     "text": [
      "+------+---+-----+\n",
      "|  name|age| city|\n",
      "+------+---+-----+\n",
      "| ankit| 21|ajmer|\n",
      "| dhruv| 24| kota|\n",
      "|akshay| 21|ajmer|\n",
      "+------+---+-----+\n",
      "\n",
      "+------+---+------+\n",
      "|  name|age|  city|\n",
      "+------+---+------+\n",
      "| harsh| 20|jaipur|\n",
      "| ankit| 21| ajmer|\n",
      "|akshay| 21| ajmer|\n",
      "| dhruv| 24|  kota|\n",
      "+------+---+------+\n",
      "\n"
     ]
    }
   ],
   "source": [
    "spark.sql(query1).show()\n",
    "spark.sql(query2).show()"
   ]
  }
 ],
 "metadata": {
  "kernelspec": {
   "display_name": "Python 3",
   "language": "python",
   "name": "python3"
  },
  "language_info": {
   "codemirror_mode": {
    "name": "ipython",
    "version": 3
   },
   "file_extension": ".py",
   "mimetype": "text/x-python",
   "name": "python",
   "nbconvert_exporter": "python",
   "pygments_lexer": "ipython3",
   "version": "3.6.6"
  }
 },
 "nbformat": 4,
 "nbformat_minor": 2
}
