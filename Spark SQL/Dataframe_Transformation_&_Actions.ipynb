{
 "cells": [
  {
   "cell_type": "code",
   "execution_count": 1,
   "metadata": {},
   "outputs": [],
   "source": [
    "import findspark\n",
    "findspark.init('/home/ec2-user/spark')"
   ]
  },
  {
   "cell_type": "code",
   "execution_count": 2,
   "metadata": {},
   "outputs": [],
   "source": [
    "import pyspark\n",
    "from pyspark import SparkContext"
   ]
  },
  {
   "cell_type": "code",
   "execution_count": 3,
   "metadata": {},
   "outputs": [],
   "source": [
    "sc = SparkContext()"
   ]
  },
  {
   "cell_type": "code",
   "execution_count": 4,
   "metadata": {},
   "outputs": [],
   "source": [
    "# Creating SparkSession bcoz this is the entry point to create DataFrame..\n",
    "from pyspark.sql import SparkSession\n",
    "spark = SparkSession.builder.appName(\"My App\").config(\"spark.some.config.option\", \"some-value\").getOrCreate()"
   ]
  },
  {
   "cell_type": "code",
   "execution_count": 5,
   "metadata": {
    "scrolled": false
   },
   "outputs": [
    {
     "name": "stdout",
     "output_type": "stream",
     "text": [
      "+------+---+------+\n",
      "|  name|age|  city|\n",
      "+------+---+------+\n",
      "| harsh| 20|jaipur|\n",
      "| ankit| 21| ajmer|\n",
      "| dhruv| 24|  kota|\n",
      "|akshay| 21| ajmer|\n",
      "+------+---+------+\n",
      "\n"
     ]
    }
   ],
   "source": [
    "# Creating a DataFrame from csv file.\n",
    "df = spark.read.csv(\"/home/ec2-user/wc.csv\" , header=True, inferSchema=True)\n",
    "df.show()\n",
    "# header=True -- means it will take the first line of csv file as header or column name\n",
    "# inferSchema=True -- fetches the schema of the table. "
   ]
  },
  {
   "cell_type": "raw",
   "metadata": {},
   "source": [
    "# -- Dataframe Transformations --\n",
    "    # select()\n",
    "    # filter()\n",
    "    # groupBy()\n",
    "    # orderBy()\n",
    "    # dropDuplicates()\n",
    "    # withColumnRenamed()\n",
    "    \n",
    "# -- Dataframe Actions -- \n",
    "    # printSchema()\n",
    "    # head()\n",
    "    # show()\n",
    "    # count()\n",
    "    # columns\n",
    "    # describe()"
   ]
  },
  {
   "cell_type": "code",
   "execution_count": 7,
   "metadata": {},
   "outputs": [
    {
     "name": "stdout",
     "output_type": "stream",
     "text": [
      "+-----+\n",
      "| name|\n",
      "+-----+\n",
      "|harsh|\n",
      "|ankit|\n",
      "+-----+\n",
      "only showing top 2 rows\n",
      "\n"
     ]
    }
   ],
   "source": [
    "# select() and show() Transformation and action\n",
    "df_name = df.select(\"name\")\n",
    "df_name.show(2)"
   ]
  },
  {
   "cell_type": "code",
   "execution_count": 8,
   "metadata": {},
   "outputs": [
    {
     "name": "stdout",
     "output_type": "stream",
     "text": [
      "+------+---+-----+\n",
      "|  name|age| city|\n",
      "+------+---+-----+\n",
      "| ankit| 21|ajmer|\n",
      "| dhruv| 24| kota|\n",
      "|akshay| 21|ajmer|\n",
      "+------+---+-----+\n",
      "\n"
     ]
    }
   ],
   "source": [
    "# filter() Transformation\n",
    "df_filter = df.filter(df['age'] >20 )  # Filters values where age is greater than 20\n",
    "df_filter.show()"
   ]
  },
  {
   "cell_type": "code",
   "execution_count": 9,
   "metadata": {},
   "outputs": [
    {
     "name": "stdout",
     "output_type": "stream",
     "text": [
      "+---+-----+\n",
      "|age|count|\n",
      "+---+-----+\n",
      "| 20|    1|\n",
      "| 24|    1|\n",
      "| 21|    2|\n",
      "+---+-----+\n",
      "\n"
     ]
    }
   ],
   "source": [
    "# groupBy() and count() Transformation and Action\n",
    "df_group = df.groupby('age')  # group variables with same values\n",
    "df_group.count().show()       # counts number of members in group"
   ]
  },
  {
   "cell_type": "code",
   "execution_count": 10,
   "metadata": {},
   "outputs": [
    {
     "name": "stdout",
     "output_type": "stream",
     "text": [
      "+------+---+------+\n",
      "|  name|age|  city|\n",
      "+------+---+------+\n",
      "| ankit| 21| ajmer|\n",
      "|akshay| 21| ajmer|\n",
      "| harsh| 20|jaipur|\n",
      "| dhruv| 24|  kota|\n",
      "+------+---+------+\n",
      "\n"
     ]
    }
   ],
   "source": [
    "# orderBy() Transformations \n",
    "df_order = df.orderBy('city')  # Sorts results according to column name\n",
    "df_order.show()"
   ]
  },
  {
   "cell_type": "code",
   "execution_count": 11,
   "metadata": {},
   "outputs": [
    {
     "name": "stdout",
     "output_type": "stream",
     "text": [
      "+---+------+\n",
      "|age|  city|\n",
      "+---+------+\n",
      "| 20|jaipur|\n",
      "| 24|  kota|\n",
      "| 21| ajmer|\n",
      "+---+------+\n",
      "\n"
     ]
    }
   ],
   "source": [
    "# dropDuplicates() Transformations\n",
    "df_drop = df.select('age','city').drop_duplicates()  # Removes Duplicates\n",
    "df_drop.show()"
   ]
  },
  {
   "cell_type": "code",
   "execution_count": 12,
   "metadata": {},
   "outputs": [
    {
     "name": "stdout",
     "output_type": "stream",
     "text": [
      "+------+----+------+\n",
      "|  name|umar|  city|\n",
      "+------+----+------+\n",
      "| harsh|  20|jaipur|\n",
      "| ankit|  21| ajmer|\n",
      "| dhruv|  24|  kota|\n",
      "|akshay|  21| ajmer|\n",
      "+------+----+------+\n",
      "\n"
     ]
    }
   ],
   "source": [
    "# withColumnRenamed() Transformation\n",
    "df_rename = df.withColumnRenamed('age','umar')\n",
    "df_rename.show()"
   ]
  },
  {
   "cell_type": "markdown",
   "metadata": {},
   "source": [
    "# Dataframe Actions"
   ]
  },
  {
   "cell_type": "code",
   "execution_count": 15,
   "metadata": {},
   "outputs": [
    {
     "name": "stdout",
     "output_type": "stream",
     "text": [
      "root\n",
      " |-- name: string (nullable = true)\n",
      " |-- age: integer (nullable = true)\n",
      " |-- city: string (nullable = true)\n",
      "\n"
     ]
    }
   ],
   "source": [
    "# printSchema() Action -- print the schema of the dataframe\n",
    "df.printSchema()"
   ]
  },
  {
   "cell_type": "code",
   "execution_count": 18,
   "metadata": {},
   "outputs": [
    {
     "data": {
      "text/plain": [
       "['name', 'age', 'city']"
      ]
     },
     "execution_count": 18,
     "metadata": {},
     "output_type": "execute_result"
    }
   ],
   "source": [
    "# columns Action -- shows all the columns of the dataframe\n",
    "df.columns"
   ]
  },
  {
   "cell_type": "code",
   "execution_count": 21,
   "metadata": {},
   "outputs": [
    {
     "name": "stdout",
     "output_type": "stream",
     "text": [
      "+-------+------+------------------+-----+\n",
      "|summary|  name|               age| city|\n",
      "+-------+------+------------------+-----+\n",
      "|  count|     4|                 4|    4|\n",
      "|   mean|  null|              21.5| null|\n",
      "| stddev|  null|1.7320508075688772| null|\n",
      "|    min|akshay|                20|ajmer|\n",
      "|    max| harsh|                24| kota|\n",
      "+-------+------+------------------+-----+\n",
      "\n"
     ]
    }
   ],
   "source": [
    "# describe() Action -- computes summary statistics of numerical columns in dataframe.\n",
    "df.describe().show()"
   ]
  },
  {
   "cell_type": "raw",
   "metadata": {},
   "source": [
    "# Next we're going to interact with dataframes using SQL and views.. stay tuned :)"
   ]
  }
 ],
 "metadata": {
  "kernelspec": {
   "display_name": "Python 3",
   "language": "python",
   "name": "python3"
  },
  "language_info": {
   "codemirror_mode": {
    "name": "ipython",
    "version": 3
   },
   "file_extension": ".py",
   "mimetype": "text/x-python",
   "name": "python",
   "nbconvert_exporter": "python",
   "pygments_lexer": "ipython3",
   "version": "3.6.6"
  }
 },
 "nbformat": 4,
 "nbformat_minor": 2
}
